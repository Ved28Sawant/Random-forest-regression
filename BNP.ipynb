{
 "cells": [
  {
   "cell_type": "code",
   "execution_count": 23,
   "id": "92ef9ffd",
   "metadata": {},
   "outputs": [],
   "source": [
    "import pandas as pd\n",
    "import numpy as np"
   ]
  },
  {
   "cell_type": "code",
   "execution_count": 24,
   "id": "5934258e",
   "metadata": {},
   "outputs": [
    {
     "data": {
      "text/html": [
       "<div>\n",
       "<style scoped>\n",
       "    .dataframe tbody tr th:only-of-type {\n",
       "        vertical-align: middle;\n",
       "    }\n",
       "\n",
       "    .dataframe tbody tr th {\n",
       "        vertical-align: top;\n",
       "    }\n",
       "\n",
       "    .dataframe thead th {\n",
       "        text-align: right;\n",
       "    }\n",
       "</style>\n",
       "<table border=\"1\" class=\"dataframe\">\n",
       "  <thead>\n",
       "    <tr style=\"text-align: right;\">\n",
       "      <th></th>\n",
       "      <th>Date</th>\n",
       "      <th>Open</th>\n",
       "      <th>High</th>\n",
       "      <th>Low</th>\n",
       "      <th>Close</th>\n",
       "      <th>Adj Close</th>\n",
       "      <th>Volume</th>\n",
       "    </tr>\n",
       "  </thead>\n",
       "  <tbody>\n",
       "    <tr>\n",
       "      <th>0</th>\n",
       "      <td>2015-10-14</td>\n",
       "      <td>53.000000</td>\n",
       "      <td>53.880001</td>\n",
       "      <td>52.849998</td>\n",
       "      <td>53.119999</td>\n",
       "      <td>36.389462</td>\n",
       "      <td>2470977</td>\n",
       "    </tr>\n",
       "    <tr>\n",
       "      <th>1</th>\n",
       "      <td>2015-10-15</td>\n",
       "      <td>53.810001</td>\n",
       "      <td>54.139999</td>\n",
       "      <td>53.610001</td>\n",
       "      <td>53.970001</td>\n",
       "      <td>36.971752</td>\n",
       "      <td>2310701</td>\n",
       "    </tr>\n",
       "    <tr>\n",
       "      <th>2</th>\n",
       "      <td>2015-10-16</td>\n",
       "      <td>54.299999</td>\n",
       "      <td>55.130001</td>\n",
       "      <td>54.119999</td>\n",
       "      <td>54.990002</td>\n",
       "      <td>37.670494</td>\n",
       "      <td>3069609</td>\n",
       "    </tr>\n",
       "    <tr>\n",
       "      <th>3</th>\n",
       "      <td>2015-10-19</td>\n",
       "      <td>54.970001</td>\n",
       "      <td>55.610001</td>\n",
       "      <td>54.599998</td>\n",
       "      <td>55.090000</td>\n",
       "      <td>37.739002</td>\n",
       "      <td>1917697</td>\n",
       "    </tr>\n",
       "    <tr>\n",
       "      <th>4</th>\n",
       "      <td>2015-10-20</td>\n",
       "      <td>55.000000</td>\n",
       "      <td>55.330002</td>\n",
       "      <td>54.029999</td>\n",
       "      <td>54.299999</td>\n",
       "      <td>37.197815</td>\n",
       "      <td>2267993</td>\n",
       "    </tr>\n",
       "  </tbody>\n",
       "</table>\n",
       "</div>"
      ],
      "text/plain": [
       "         Date       Open       High        Low      Close  Adj Close   Volume\n",
       "0  2015-10-14  53.000000  53.880001  52.849998  53.119999  36.389462  2470977\n",
       "1  2015-10-15  53.810001  54.139999  53.610001  53.970001  36.971752  2310701\n",
       "2  2015-10-16  54.299999  55.130001  54.119999  54.990002  37.670494  3069609\n",
       "3  2015-10-19  54.970001  55.610001  54.599998  55.090000  37.739002  1917697\n",
       "4  2015-10-20  55.000000  55.330002  54.029999  54.299999  37.197815  2267993"
      ]
     },
     "execution_count": 24,
     "metadata": {},
     "output_type": "execute_result"
    }
   ],
   "source": [
    "data=pd.read_csv(\"BNP.PA.csv\")\n",
    "data.head()"
   ]
  },
  {
   "cell_type": "code",
   "execution_count": 25,
   "id": "d1cfe1c6",
   "metadata": {
    "scrolled": true
   },
   "outputs": [
    {
     "name": "stdout",
     "output_type": "stream",
     "text": [
      "<class 'pandas.core.frame.DataFrame'>\n",
      "RangeIndex: 1536 entries, 0 to 1535\n",
      "Data columns (total 7 columns):\n",
      " #   Column     Non-Null Count  Dtype  \n",
      "---  ------     --------------  -----  \n",
      " 0   Date       1536 non-null   object \n",
      " 1   Open       1536 non-null   float64\n",
      " 2   High       1536 non-null   float64\n",
      " 3   Low        1536 non-null   float64\n",
      " 4   Close      1536 non-null   float64\n",
      " 5   Adj Close  1536 non-null   float64\n",
      " 6   Volume     1536 non-null   int64  \n",
      "dtypes: float64(5), int64(1), object(1)\n",
      "memory usage: 84.1+ KB\n"
     ]
    }
   ],
   "source": [
    "data.info()"
   ]
  },
  {
   "cell_type": "code",
   "execution_count": 26,
   "id": "857e8251",
   "metadata": {},
   "outputs": [],
   "source": [
    "data=data.set_index(pd.DatetimeIndex(data['Date'].values))"
   ]
  },
  {
   "cell_type": "code",
   "execution_count": 27,
   "id": "a4b377ed",
   "metadata": {},
   "outputs": [
    {
     "data": {
      "text/html": [
       "<div>\n",
       "<style scoped>\n",
       "    .dataframe tbody tr th:only-of-type {\n",
       "        vertical-align: middle;\n",
       "    }\n",
       "\n",
       "    .dataframe tbody tr th {\n",
       "        vertical-align: top;\n",
       "    }\n",
       "\n",
       "    .dataframe thead th {\n",
       "        text-align: right;\n",
       "    }\n",
       "</style>\n",
       "<table border=\"1\" class=\"dataframe\">\n",
       "  <thead>\n",
       "    <tr style=\"text-align: right;\">\n",
       "      <th></th>\n",
       "      <th>Date</th>\n",
       "      <th>Open</th>\n",
       "      <th>High</th>\n",
       "      <th>Low</th>\n",
       "      <th>Close</th>\n",
       "      <th>Adj Close</th>\n",
       "      <th>Volume</th>\n",
       "      <th>prediction</th>\n",
       "    </tr>\n",
       "  </thead>\n",
       "  <tbody>\n",
       "    <tr>\n",
       "      <th>2015-10-14</th>\n",
       "      <td>2015-10-14</td>\n",
       "      <td>53.000000</td>\n",
       "      <td>53.880001</td>\n",
       "      <td>52.849998</td>\n",
       "      <td>53.119999</td>\n",
       "      <td>36.389462</td>\n",
       "      <td>2470977</td>\n",
       "      <td>53.970001</td>\n",
       "    </tr>\n",
       "    <tr>\n",
       "      <th>2015-10-15</th>\n",
       "      <td>2015-10-15</td>\n",
       "      <td>53.810001</td>\n",
       "      <td>54.139999</td>\n",
       "      <td>53.610001</td>\n",
       "      <td>53.970001</td>\n",
       "      <td>36.971752</td>\n",
       "      <td>2310701</td>\n",
       "      <td>54.990002</td>\n",
       "    </tr>\n",
       "    <tr>\n",
       "      <th>2015-10-16</th>\n",
       "      <td>2015-10-16</td>\n",
       "      <td>54.299999</td>\n",
       "      <td>55.130001</td>\n",
       "      <td>54.119999</td>\n",
       "      <td>54.990002</td>\n",
       "      <td>37.670494</td>\n",
       "      <td>3069609</td>\n",
       "      <td>55.090000</td>\n",
       "    </tr>\n",
       "    <tr>\n",
       "      <th>2015-10-19</th>\n",
       "      <td>2015-10-19</td>\n",
       "      <td>54.970001</td>\n",
       "      <td>55.610001</td>\n",
       "      <td>54.599998</td>\n",
       "      <td>55.090000</td>\n",
       "      <td>37.739002</td>\n",
       "      <td>1917697</td>\n",
       "      <td>54.299999</td>\n",
       "    </tr>\n",
       "    <tr>\n",
       "      <th>2015-10-20</th>\n",
       "      <td>2015-10-20</td>\n",
       "      <td>55.000000</td>\n",
       "      <td>55.330002</td>\n",
       "      <td>54.029999</td>\n",
       "      <td>54.299999</td>\n",
       "      <td>37.197815</td>\n",
       "      <td>2267993</td>\n",
       "      <td>54.400002</td>\n",
       "    </tr>\n",
       "    <tr>\n",
       "      <th>...</th>\n",
       "      <td>...</td>\n",
       "      <td>...</td>\n",
       "      <td>...</td>\n",
       "      <td>...</td>\n",
       "      <td>...</td>\n",
       "      <td>...</td>\n",
       "      <td>...</td>\n",
       "      <td>...</td>\n",
       "    </tr>\n",
       "    <tr>\n",
       "      <th>2021-10-07</th>\n",
       "      <td>2021-10-07</td>\n",
       "      <td>56.799999</td>\n",
       "      <td>57.919998</td>\n",
       "      <td>56.029999</td>\n",
       "      <td>57.090000</td>\n",
       "      <td>57.090000</td>\n",
       "      <td>4022752</td>\n",
       "      <td>57.000000</td>\n",
       "    </tr>\n",
       "    <tr>\n",
       "      <th>2021-10-08</th>\n",
       "      <td>2021-10-08</td>\n",
       "      <td>56.930000</td>\n",
       "      <td>57.490002</td>\n",
       "      <td>56.860001</td>\n",
       "      <td>57.000000</td>\n",
       "      <td>57.000000</td>\n",
       "      <td>2512322</td>\n",
       "      <td>57.330002</td>\n",
       "    </tr>\n",
       "    <tr>\n",
       "      <th>2021-10-11</th>\n",
       "      <td>2021-10-11</td>\n",
       "      <td>57.000000</td>\n",
       "      <td>57.779999</td>\n",
       "      <td>56.959999</td>\n",
       "      <td>57.330002</td>\n",
       "      <td>57.330002</td>\n",
       "      <td>2173487</td>\n",
       "      <td>57.189999</td>\n",
       "    </tr>\n",
       "    <tr>\n",
       "      <th>2021-10-12</th>\n",
       "      <td>2021-10-12</td>\n",
       "      <td>56.500000</td>\n",
       "      <td>57.279999</td>\n",
       "      <td>56.270000</td>\n",
       "      <td>57.189999</td>\n",
       "      <td>57.189999</td>\n",
       "      <td>1991495</td>\n",
       "      <td>56.360001</td>\n",
       "    </tr>\n",
       "    <tr>\n",
       "      <th>2021-10-13</th>\n",
       "      <td>2021-10-13</td>\n",
       "      <td>57.099998</td>\n",
       "      <td>57.290001</td>\n",
       "      <td>55.830002</td>\n",
       "      <td>56.360001</td>\n",
       "      <td>56.360001</td>\n",
       "      <td>2570059</td>\n",
       "      <td>NaN</td>\n",
       "    </tr>\n",
       "  </tbody>\n",
       "</table>\n",
       "<p>1536 rows × 8 columns</p>\n",
       "</div>"
      ],
      "text/plain": [
       "                  Date       Open       High        Low      Close  Adj Close  \\\n",
       "2015-10-14  2015-10-14  53.000000  53.880001  52.849998  53.119999  36.389462   \n",
       "2015-10-15  2015-10-15  53.810001  54.139999  53.610001  53.970001  36.971752   \n",
       "2015-10-16  2015-10-16  54.299999  55.130001  54.119999  54.990002  37.670494   \n",
       "2015-10-19  2015-10-19  54.970001  55.610001  54.599998  55.090000  37.739002   \n",
       "2015-10-20  2015-10-20  55.000000  55.330002  54.029999  54.299999  37.197815   \n",
       "...                ...        ...        ...        ...        ...        ...   \n",
       "2021-10-07  2021-10-07  56.799999  57.919998  56.029999  57.090000  57.090000   \n",
       "2021-10-08  2021-10-08  56.930000  57.490002  56.860001  57.000000  57.000000   \n",
       "2021-10-11  2021-10-11  57.000000  57.779999  56.959999  57.330002  57.330002   \n",
       "2021-10-12  2021-10-12  56.500000  57.279999  56.270000  57.189999  57.189999   \n",
       "2021-10-13  2021-10-13  57.099998  57.290001  55.830002  56.360001  56.360001   \n",
       "\n",
       "             Volume  prediction  \n",
       "2015-10-14  2470977   53.970001  \n",
       "2015-10-15  2310701   54.990002  \n",
       "2015-10-16  3069609   55.090000  \n",
       "2015-10-19  1917697   54.299999  \n",
       "2015-10-20  2267993   54.400002  \n",
       "...             ...         ...  \n",
       "2021-10-07  4022752   57.000000  \n",
       "2021-10-08  2512322   57.330002  \n",
       "2021-10-11  2173487   57.189999  \n",
       "2021-10-12  1991495   56.360001  \n",
       "2021-10-13  2570059         NaN  \n",
       "\n",
       "[1536 rows x 8 columns]"
      ]
     },
     "execution_count": 27,
     "metadata": {},
     "output_type": "execute_result"
    }
   ],
   "source": [
    "prediction_days=1\n",
    "data['prediction']=data['Close'].shift(-prediction_days)\n",
    "data"
   ]
  },
  {
   "cell_type": "code",
   "execution_count": 28,
   "id": "10750ccd",
   "metadata": {},
   "outputs": [],
   "source": [
    "data=data[['Close']]"
   ]
  },
  {
   "cell_type": "code",
   "execution_count": 29,
   "id": "b7f9c7c7",
   "metadata": {},
   "outputs": [
    {
     "name": "stderr",
     "output_type": "stream",
     "text": [
      "<ipython-input-29-5c970900951c>:1: SettingWithCopyWarning: \n",
      "A value is trying to be set on a copy of a slice from a DataFrame.\n",
      "Try using .loc[row_indexer,col_indexer] = value instead\n",
      "\n",
      "See the caveats in the documentation: https://pandas.pydata.org/pandas-docs/stable/user_guide/indexing.html#returning-a-view-versus-a-copy\n",
      "  data['prediction']=data[['Close']].shift(-prediction_days)\n"
     ]
    }
   ],
   "source": [
    "data['prediction']=data[['Close']].shift(-prediction_days)"
   ]
  },
  {
   "cell_type": "code",
   "execution_count": 31,
   "id": "72fe70d9",
   "metadata": {
    "scrolled": true
   },
   "outputs": [],
   "source": [
    "x=np.array(data.drop(['prediction'],1))\n",
    "x=x[:len(data)-prediction_days-1]"
   ]
  },
  {
   "cell_type": "code",
   "execution_count": 33,
   "id": "a969e077",
   "metadata": {},
   "outputs": [],
   "source": [
    "y=np.array(data['prediction'])\n",
    "y=y[:-prediction_days-1]"
   ]
  },
  {
   "cell_type": "code",
   "execution_count": 34,
   "id": "86ad64e6",
   "metadata": {},
   "outputs": [],
   "source": [
    "from sklearn.model_selection import train_test_split\n",
    "x_train,x_test,y_train,y_test=train_test_split(x,y,test_size=0.2,random_state=0)"
   ]
  },
  {
   "cell_type": "code",
   "execution_count": 36,
   "id": "759cabe1",
   "metadata": {},
   "outputs": [],
   "source": [
    "from sklearn.ensemble import RandomForestRegressor\n",
    "model=RandomForestRegressor()"
   ]
  },
  {
   "cell_type": "code",
   "execution_count": 37,
   "id": "4a4feb4e",
   "metadata": {},
   "outputs": [
    {
     "data": {
      "text/plain": [
       "RandomForestRegressor()"
      ]
     },
     "execution_count": 37,
     "metadata": {},
     "output_type": "execute_result"
    }
   ],
   "source": [
    "model.fit(x_train,y_train)"
   ]
  },
  {
   "cell_type": "code",
   "execution_count": 38,
   "id": "0abdb65f",
   "metadata": {},
   "outputs": [
    {
     "data": {
      "text/plain": [
       "0.9893431552467045"
      ]
     },
     "execution_count": 38,
     "metadata": {},
     "output_type": "execute_result"
    }
   ],
   "source": [
    "model.score(x_test,y_test)"
   ]
  },
  {
   "cell_type": "code",
   "execution_count": 40,
   "id": "91418047",
   "metadata": {},
   "outputs": [],
   "source": [
    "predict_test=model.predict(x_test)"
   ]
  },
  {
   "cell_type": "code",
   "execution_count": 41,
   "id": "ed0e0328",
   "metadata": {},
   "outputs": [
    {
     "data": {
      "text/plain": [
       "1.1520766880657634"
      ]
     },
     "execution_count": 41,
     "metadata": {},
     "output_type": "execute_result"
    }
   ],
   "source": [
    "from sklearn.metrics import mean_squared_error as mse\n",
    "mse(y_test,predict_test)"
   ]
  }
 ],
 "metadata": {
  "kernelspec": {
   "display_name": "Python 3",
   "language": "python",
   "name": "python3"
  },
  "language_info": {
   "codemirror_mode": {
    "name": "ipython",
    "version": 3
   },
   "file_extension": ".py",
   "mimetype": "text/x-python",
   "name": "python",
   "nbconvert_exporter": "python",
   "pygments_lexer": "ipython3",
   "version": "3.8.8"
  }
 },
 "nbformat": 4,
 "nbformat_minor": 5
}
